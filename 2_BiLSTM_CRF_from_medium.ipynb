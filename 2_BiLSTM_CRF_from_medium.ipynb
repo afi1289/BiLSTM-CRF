{
  "nbformat": 4,
  "nbformat_minor": 0,
  "metadata": {
    "colab": {
      "name": "2- BiLSTM-CRF from medium.ipynb",
      "provenance": [],
      "collapsed_sections": [],
      "authorship_tag": "ABX9TyNrJHk2kfanmL5l6GdQGnq8",
      "include_colab_link": true
    },
    "kernelspec": {
      "name": "python3",
      "display_name": "Python 3"
    },
    "accelerator": "GPU"
  },
  "cells": [
    {
      "cell_type": "markdown",
      "metadata": {
        "id": "view-in-github",
        "colab_type": "text"
      },
      "source": [
        "<a href=\"https://colab.research.google.com/github/afi1289/BiLSTM-CRF/blob/main/2_BiLSTM_CRF_from_medium.ipynb\" target=\"_parent\"><img src=\"https://colab.research.google.com/assets/colab-badge.svg\" alt=\"Open In Colab\"/></a>"
      ]
    },
    {
      "cell_type": "code",
      "metadata": {
        "colab": {
          "base_uri": "https://localhost:8080/"
        },
        "id": "k0kbz7CEP-i5",
        "outputId": "ca8e1af3-5285-4eb8-be36-6c07c4035588"
      },
      "source": [
        "# To determine which version you're using:\n",
        "!pip show tensorflow\n",
        "\n",
        "# For the current version: \n",
        "#!pip install --upgrade tensorflow"
      ],
      "execution_count": 5,
      "outputs": [
        {
          "output_type": "stream",
          "text": [
            "Name: tensorflow\n",
            "Version: 2.4.1\n",
            "Summary: TensorFlow is an open source machine learning framework for everyone.\n",
            "Home-page: https://www.tensorflow.org/\n",
            "Author: Google Inc.\n",
            "Author-email: packages@tensorflow.org\n",
            "License: Apache 2.0\n",
            "Location: /usr/local/lib/python3.6/dist-packages\n",
            "Requires: wrapt, absl-py, astunparse, typing-extensions, tensorboard, keras-preprocessing, protobuf, wheel, gast, tensorflow-estimator, grpcio, opt-einsum, termcolor, numpy, google-pasta, h5py, flatbuffers, six\n",
            "Required-by: fancyimpute\n"
          ],
          "name": "stdout"
        }
      ]
    },
    {
      "cell_type": "code",
      "metadata": {
        "colab": {
          "base_uri": "https://localhost:8080/"
        },
        "id": "Zg3EdJ9gSrFh",
        "outputId": "f2e60267-1486-4274-e444-4e2e7f002d3d"
      },
      "source": [
        "# to save your time\n",
        "\n",
        "from google.colab import drive\n",
        "drive.mount('/content/gdrive')"
      ],
      "execution_count": 1,
      "outputs": [
        {
          "output_type": "stream",
          "text": [
            "Mounted at /content/gdrive\n"
          ],
          "name": "stdout"
        }
      ]
    },
    {
      "cell_type": "code",
      "metadata": {
        "colab": {
          "base_uri": "https://localhost:8080/"
        },
        "id": "Cjijg5JoS-wi",
        "outputId": "ebd79290-3ed8-415d-bdf0-c7118b54486e"
      },
      "source": [
        "%cd gdrive/My Drive/project_folder/"
      ],
      "execution_count": 2,
      "outputs": [
        {
          "output_type": "stream",
          "text": [
            "/content/gdrive/My Drive/project_folder\n"
          ],
          "name": "stdout"
        }
      ]
    },
    {
      "cell_type": "code",
      "metadata": {
        "colab": {
          "base_uri": "https://localhost:8080/"
        },
        "id": "eF53XPCjTG9q",
        "outputId": "d1104543-4415-419f-d938-0d0ce5b432b4"
      },
      "source": [
        "!ls"
      ],
      "execution_count": 41,
      "outputs": [
        {
          "output_type": "stream",
          "text": [
            "'0-Clone GitHub Repository.ipynb'\n",
            " 1-Baseline_Glove.ipynb\n",
            "'2- BiLSTM-CRF from medium.ipynb'\n",
            "'2-Paper Implementation BiLSTM-CRF for Aspect Term Extraction.ipynb'\n",
            "'3- NER with BERT_Fine-tuning_18_01.ipynb'\n",
            " bilstm\n",
            " data_movie_absa.json\n",
            " glove.42B.300d_rel.pkl\n",
            " glove.42B.300d.txt\n",
            " glove.840B.300d.txt\n",
            " luke_notebook\n",
            " model_save\n",
            "'OLD Notebooks'\n"
          ],
          "name": "stdout"
        }
      ]
    },
    {
      "cell_type": "code",
      "metadata": {
        "colab": {
          "base_uri": "https://localhost:8080/"
        },
        "id": "VYW0Tee7R62Z",
        "outputId": "7ae79102-a8af-42e6-c175-e5ac8edf8061"
      },
      "source": [
        "!pip install git+https://www.github.com/keras-team/keras-contrib.git"
      ],
      "execution_count": 3,
      "outputs": [
        {
          "output_type": "stream",
          "text": [
            "Collecting git+https://www.github.com/keras-team/keras-contrib.git\n",
            "  Cloning https://www.github.com/keras-team/keras-contrib.git to /tmp/pip-req-build-mb38cd4c\n",
            "  Running command git clone -q https://www.github.com/keras-team/keras-contrib.git /tmp/pip-req-build-mb38cd4c\n",
            "Requirement already satisfied: keras in /usr/local/lib/python3.6/dist-packages (from keras-contrib==2.0.8) (2.4.3)\n",
            "Requirement already satisfied: numpy>=1.9.1 in /usr/local/lib/python3.6/dist-packages (from keras->keras-contrib==2.0.8) (1.19.5)\n",
            "Requirement already satisfied: h5py in /usr/local/lib/python3.6/dist-packages (from keras->keras-contrib==2.0.8) (2.10.0)\n",
            "Requirement already satisfied: scipy>=0.14 in /usr/local/lib/python3.6/dist-packages (from keras->keras-contrib==2.0.8) (1.4.1)\n",
            "Requirement already satisfied: pyyaml in /usr/local/lib/python3.6/dist-packages (from keras->keras-contrib==2.0.8) (3.13)\n",
            "Requirement already satisfied: six in /usr/local/lib/python3.6/dist-packages (from h5py->keras->keras-contrib==2.0.8) (1.15.0)\n",
            "Building wheels for collected packages: keras-contrib\n",
            "  Building wheel for keras-contrib (setup.py) ... \u001b[?25l\u001b[?25hdone\n",
            "  Created wheel for keras-contrib: filename=keras_contrib-2.0.8-cp36-none-any.whl size=101066 sha256=0cbef19f33047619b9f01dbdd6f25e565e49802c6f4ebe4e4aeec31a7f2a558b\n",
            "  Stored in directory: /tmp/pip-ephem-wheel-cache-u0wrjuqx/wheels/11/27/c8/4ed56de7b55f4f61244e2dc6ef3cdbaff2692527a2ce6502ba\n",
            "Successfully built keras-contrib\n",
            "Installing collected packages: keras-contrib\n",
            "Successfully installed keras-contrib-2.0.8\n"
          ],
          "name": "stdout"
        }
      ]
    },
    {
      "cell_type": "code",
      "metadata": {
        "id": "-pecjJjHMyg3"
      },
      "source": [
        "import pandas as pd\n",
        "import numpy as np\n",
        "from keras.preprocessing.sequence import pad_sequences\n",
        "from keras.utils import to_categorical\n",
        "from sklearn.model_selection import train_test_split\n",
        "from keras.models import Model, Input\n",
        "from keras.layers import LSTM, Embedding, Dense, TimeDistributed, Dropout, Bidirectional\n",
        "from keras_contrib.layers import CRF\n",
        "from pathlib import Path\n",
        "# import utils"
      ],
      "execution_count": 4,
      "outputs": []
    },
    {
      "cell_type": "code",
      "metadata": {
        "id": "S2dqyCdFQYYv"
      },
      "source": [
        "glove_path = \"/content/gdrive/My Drive/project_folder/glove.840B.300d.txt\""
      ],
      "execution_count": 5,
      "outputs": []
    },
    {
      "cell_type": "code",
      "metadata": {
        "colab": {
          "base_uri": "https://localhost:8080/"
        },
        "id": "4bZnT_2ISKWR",
        "outputId": "76e0fa3f-51eb-4d26-924b-db63aba56fc6"
      },
      "source": [
        "# read glove to embedings_index\n",
        "from tqdm import tqdm\n",
        "\n",
        "\n",
        "embeddings_index = {}\n",
        "with open(glove_path, encoding='utf8') as f:\n",
        "    for i, line in tqdm(enumerate(f)):\n",
        "        values = line.split()\n",
        "        word = ''.join(values[:-300])\n",
        "        coefs = np.asarray(values[-300:], dtype='float32')\n",
        "        embeddings_index[word] = coefs\n",
        "print(\"Done!\")"
      ],
      "execution_count": 6,
      "outputs": [
        {
          "output_type": "stream",
          "text": [
            "2196017it [02:50, 12845.34it/s]"
          ],
          "name": "stderr"
        },
        {
          "output_type": "stream",
          "text": [
            "Done!\n"
          ],
          "name": "stdout"
        },
        {
          "output_type": "stream",
          "text": [
            "\n"
          ],
          "name": "stderr"
        }
      ]
    },
    {
      "cell_type": "markdown",
      "metadata": {
        "id": "6m2ztD0BUtNL"
      },
      "source": [
        "#2. Data Reformation"
      ]
    },
    {
      "cell_type": "markdown",
      "metadata": {
        "id": "Plnif9hjUqAN"
      },
      "source": [
        "##2.1. What I should do: \n",
        "\n",
        "####1.   Solve the following subtasks with a **different** Deep learning models, or one model with variants in addition to Baseline method:\n",
        "*   Aspect Term Extraction\n",
        "*   Sentiment Term Extraction\n",
        "*   Modifier Term Extraction\n",
        "\n",
        "> Compare the performance later:\n",
        "$F_1(Final) = \\frac{F_1(Aspects) + F_1(Sentiments) + F_1(Modifiers)}{3}$\n",
        "\n",
        "> **Conduct error** analysis on the best model (which returns the best $F_1$ score)\n",
        "\n",
        "> It is better to apply the model for each subtask **sequentially** without co-extraction, but be **aware** with splitting the dataset into **train-test** data.\n",
        "\n",
        "> It is NOT **NER** task! It is very similar task! You can use a model based on NER to solve these problems because our problem is considered as token classification problem or Information extraction problem.\n",
        "\n",
        "\n",
        "####2.   The dataset should be splited into 80% or training and 20% for testing using ```cross_validation``` or ```train_test_split```\n",
        "\n",
        "\n",
        "*   You can aggregate Training dataset\n",
        "    *    Try various aggregation rules because you have to explain you why you did that\n",
        "*   DON'T aggregate Test dataset:\n",
        "    *   **Essential Setting**:The model predictions MUST be compared with labels for ALL users\n",
        "    *   Alternative Setting: Remove any label associated with UNCERTAINTY (i.e., convert it to **O** label)\n",
        "*   Later, you will get Final IDs for evaluation, e.g., Test data have specific IDs -> Therefore, try to find a function that extract specific reviews based on their IDs\n",
        "\n",
        "\n",
        "####3.   In this step the json structure should be changed into two lists structure:\n"
      ]
    },
    {
      "cell_type": "code",
      "metadata": {
        "id": "qBhJg6xUTpux"
      },
      "source": [
        "import json\n",
        "with open('/content/gdrive/My Drive/project_folder/data_movie_absa.json') as infile:\n",
        "  data = json.load(infile)"
      ],
      "execution_count": 7,
      "outputs": []
    },
    {
      "cell_type": "markdown",
      "metadata": {
        "id": "rAY3cbNGU9d9"
      },
      "source": [
        "*   Two kind of lists should be extracted from the json file \n",
        "*   The **first one** contains all sentences (with lower case by using BiLSTM) as follows:\n",
        "\n",
        "Example for senteces:\n",
        "```\n",
        "[['Best', 'show', 'ever', '!'],\n",
        " ['Its', 'a', 'great', 'show'],\n",
        " ['Season', '2', 'continues', 'the', 'story', 'well', 'while', 'adding', 'not', 'bad', 'new', 'characters', '.']]\n",
        "```\n",
        "\n",
        "*  The **second list** should contain only one label of the following: aspects, sentiments, modifiers:\n",
        "\n",
        "The labels for example sentences:\n",
        "```\n",
        " [['O', 'B_A', 'O', 'O'],\n",
        "  ['O', 'O', 'B_S', 'O'],\n",
        "  ['O', 'O', 'O', 'O', 'O', 'O', 'O', 'O', 'O', 'BM', 'O', 'O']]\n",
        "```\n"
      ]
    },
    {
      "cell_type": "markdown",
      "metadata": {
        "id": "Twrd_mD9XxAX"
      },
      "source": [
        "##2.2. List of sentences\n",
        "You can get list of lists that contains all tokenized sentences (lower case by using BiLSTM-CRF)"
      ]
    },
    {
      "cell_type": "code",
      "metadata": {
        "id": "IQFRkhOVU1pE"
      },
      "source": [
        "# get keys and values from data, index them, loop over each index and (key,value) pair\n",
        "sentences = []\n",
        "for i,(k,v) in enumerate(data.items()):\n",
        "    tokens = v.get('tokens')                       # from the variable v, get the value of the \"tokens\" key. -> ['Best', 'show', 'ever', '!']\n",
        "    tokens = [token.lower() for token in tokens]   # convert each element in the list to lower case! (I think that will not consider the UPPER case words which have a sentimen!)\n",
        "    sentences.append(tokens)             # append the lowerd case sentence into sentences list"
      ],
      "execution_count": 8,
      "outputs": []
    },
    {
      "cell_type": "code",
      "metadata": {
        "colab": {
          "base_uri": "https://localhost:8080/"
        },
        "id": "DAkaNeVtU5vz",
        "outputId": "ac22a0a2-b294-4517-ae82-f6fbabf87ba3"
      },
      "source": [
        "sentences[0:3]"
      ],
      "execution_count": 9,
      "outputs": [
        {
          "output_type": "execute_result",
          "data": {
            "text/plain": [
              "[['best', 'show', 'ever', '!'],\n",
              " ['its', 'a', 'great', 'show'],\n",
              " ['my', '6', 'year', 'old', 'and', 'i', 'love', 'this', 'show', '!']]"
            ]
          },
          "metadata": {
            "tags": []
          },
          "execution_count": 9
        }
      ]
    },
    {
      "cell_type": "markdown",
      "metadata": {
        "id": "PY-Ag1iVYAWg"
      },
      "source": [
        "##2.3. Extract aspects, sentiments, modifiers.. :\n",
        "Define function to extract the values associated with any key in nested JSON file\n",
        "\n",
        "The [first idea](https://hackersandslackers.com/extract-data-from-complex-json-python/) (doesn't work properley): \\\n",
        "\n",
        "\n",
        "Therefore, someone has edited [here](https://gist.github.com/toddbirchard/b6f86f03f6cf4fc9492ad4349ee7ff8b) (doesn't returns lists, so I changed the few last lines):"
      ]
    },
    {
      "cell_type": "code",
      "metadata": {
        "id": "Xw5OTnlDX3xK"
      },
      "source": [
        "# Define function to extract the values associated with any key in nested JSON file\n",
        "def json_extract(json_ob, key):\n",
        "    \n",
        "    arr = []\n",
        "\n",
        "    def extract(json_ob, arr, key):\n",
        "       if isinstance(json_ob, dict):\n",
        "           for k, v in json_ob.items():\n",
        "               if isinstance(v, (dict, list)):\n",
        "                   if k == key:\n",
        "                       arr.append(v)\n",
        "                   extract(v, arr, key)\n",
        "               elif k == key:\n",
        "                   arr.append(v)\n",
        "       elif isinstance(json_ob, list):\n",
        "           for item in json_ob:\n",
        "               extract(item, arr, key)\n",
        "       return arr\n",
        "\n",
        "    results = extract(json_ob, arr, key)\n",
        "    \n",
        "    return results"
      ],
      "execution_count": 10,
      "outputs": []
    },
    {
      "cell_type": "code",
      "metadata": {
        "colab": {
          "base_uri": "https://localhost:8080/"
        },
        "id": "8VDKtPYjYDhX",
        "outputId": "0116ce1c-75d8-4ed4-9ea6-19c83a318255"
      },
      "source": [
        "# Extract all the values associated with the key \"aspects\"\n",
        "asp_users = json_extract(data,\"aspects\")\n",
        "\n",
        "# Extract all the values associated with the key \"sentiments\"\n",
        "sen_users = json_extract(data,\"sentiments\")\n",
        "\n",
        "# Extract all the values associated with the key \"modifiers\"\n",
        "mod_users = json_extract(data,\"modifiers\")\n",
        "\n",
        "# Extract all the values associated with the key \"aspect_uncertainty\"\n",
        "un_asp_users = json_extract(data,\"aspects_uncertainty\")\n",
        "\n",
        "# Extract all the values associated with the key \"sentiments_uncertainty\"\n",
        "un_sen_users = json_extract(data,\"sentiments_uncertainty\")\n",
        "\n",
        "# Extract all the values associated with the key \"modifiers_uncertainty\"\n",
        "un_mod_users = json_extract(data,\"modifiers_uncertainty\")\n",
        "\n",
        "print(\"The first sentence: \", sentences[0])\n",
        "print(\"Example of aspect labels for the first review: \",(asp_users[:3]))\n",
        "print(\"Number of aspect label lists from 3 users: \", len(asp_users))\n",
        "print(\"Maximum length of labels list: \", len(max(asp_users)))\n"
      ],
      "execution_count": 11,
      "outputs": [
        {
          "output_type": "stream",
          "text": [
            "The first sentence:  ['best', 'show', 'ever', '!']\n",
            "Example of aspect labels for the first review:  [['O', 'B_A', 'O', 'O'], ['O', 'B_A', 'O', 'O'], ['O', 'B_A', 'O', 'O']]\n",
            "Number of aspect label lists from 3 users:  9672\n",
            "Maximum length of labels list:  165\n"
          ],
          "name": "stdout"
        }
      ]
    },
    {
      "cell_type": "markdown",
      "metadata": {
        "id": "n1bjVk8SYRyX"
      },
      "source": [
        "###2.3.1. Count labels in entire data "
      ]
    },
    {
      "cell_type": "code",
      "metadata": {
        "colab": {
          "base_uri": "https://localhost:8080/"
        },
        "id": "7nnoLdBiYMHW",
        "outputId": "148b3a72-6ca3-4db7-cec1-4f2db1aa8e16"
      },
      "source": [
        "# define function to count labels\n",
        "def labels_counter(label_lists):\n",
        "  counter = 0\n",
        "  for label_list in label_lists:\n",
        "    for each_label in label_list:\n",
        "      if each_label != 'O':\n",
        "        counter += 1\n",
        "  return counter\n",
        "\n",
        "print(\"The number of aspect labels in data:\", labels_counter(asp_users))\n",
        "print(\"The number of aspect uncertainty labels in data:\", labels_counter(un_asp_users))\n",
        "print(\" \")\n",
        "print(\"The number of sentiment labels in data:\", labels_counter(sen_users))\n",
        "print(\"The number of sentiment uncertainty labels in data:\", labels_counter(un_sen_users))\n",
        "print(\" \")\n",
        "print(\"The number of modifier labels in data:\", labels_counter(mod_users))\n",
        "print(\"The number of modifier uncertainty labels in data:\", labels_counter(un_mod_users))"
      ],
      "execution_count": 12,
      "outputs": [
        {
          "output_type": "stream",
          "text": [
            "The number of aspect labels in data: 11871\n",
            "The number of aspect uncertainty labels in data: 239\n",
            " \n",
            "The number of sentiment labels in data: 17268\n",
            "The number of sentiment uncertainty labels in data: 614\n",
            " \n",
            "The number of modifier labels in data: 3918\n",
            "The number of modifier uncertainty labels in data: 49\n"
          ],
          "name": "stdout"
        }
      ]
    },
    {
      "cell_type": "markdown",
      "metadata": {
        "id": "tBaylYNFYX_c"
      },
      "source": [
        "###2.3.2. Function to collect all user labels:"
      ]
    },
    {
      "cell_type": "code",
      "metadata": {
        "id": "9ooN5WxrYUbW"
      },
      "source": [
        "# define function to consolidate labels from all users \n",
        "# update: optimized function with integrated function to gather all possible labels\n",
        "def consolidate_labels(lab_user):\n",
        "\n",
        "  def aggregate_test_labels(a,b,c):\n",
        "     aggregated_list = []\n",
        "     # iterate over 3 lists\n",
        "     for x,y,z in zip(a, b, c):\n",
        "        if x != 'O':\n",
        "          aggregated_list.append(x)\n",
        "        elif y != 'O':\n",
        "          aggregated_list.append(y)\n",
        "        elif z != 'O':\n",
        "          aggregated_list.append(z)\n",
        "        else:\n",
        "          aggregated_list.append('O')\n",
        "     return aggregated_list\n",
        "\n",
        "  result = [aggregate_test_labels(lab_user[i], lab_user[i+1], lab_user[i+2]) for i in range(0,len(lab_user)-2, 3)] # you can use aggregate_test_labels\n",
        "  return result\n"
      ],
      "execution_count": 13,
      "outputs": []
    },
    {
      "cell_type": "code",
      "metadata": {
        "colab": {
          "base_uri": "https://localhost:8080/"
        },
        "id": "Ixvnrc2UY1Ba",
        "outputId": "5cf53107-b078-48d0-b8be-cc958de01ec5"
      },
      "source": [
        "# Consolidate aspect labels, sentiment labels, modifier labels\n",
        "con_asp_lab = consolidate_labels(asp_users)\n",
        "con_sen_lab = consolidate_labels(sen_users)\n",
        "con_mod_lab = consolidate_labels(mod_users)\n",
        "\n",
        "\n",
        "print(\" The first 3 sentences: \", sentences[:3])\n",
        "print(\"The result of aspects consolidation: \\n\",con_asp_lab[:3],\"\\n\")\n",
        "print(\"The result of sentiments consolidation: \\n\",con_sen_lab[:3], \"\\n\")\n",
        "print(\"The result of modifiers consolidation: \\n\",con_mod_lab[:3],\"\\n\")\n",
        "\n",
        "print(\"Number of consolidated lists: \",len(con_asp_lab), \"\\n\")\n",
        "\n",
        "print(\"Number of aspect labels: \", labels_counter(con_asp_lab))\n",
        "print(\"Number of sentiment labels: \", labels_counter(con_sen_lab))\n",
        "print(\"Number of modifier labels: \", labels_counter(con_mod_lab))\n",
        "print(\"All lists are equal?: \", len(con_asp_lab) == len(con_mod_lab) == len(con_sen_lab))"
      ],
      "execution_count": 14,
      "outputs": [
        {
          "output_type": "stream",
          "text": [
            " The first 3 sentences:  [['best', 'show', 'ever', '!'], ['its', 'a', 'great', 'show'], ['my', '6', 'year', 'old', 'and', 'i', 'love', 'this', 'show', '!']]\n",
            "The result of aspects consolidation: \n",
            " [['O', 'B_A', 'O', 'O'], ['O', 'O', 'O', 'B_A'], ['O', 'O', 'O', 'O', 'O', 'O', 'O', 'O', 'B_A', 'O']] \n",
            "\n",
            "The result of sentiments consolidation: \n",
            " [['B_S', 'O', 'O', 'O'], ['O', 'O', 'B_S', 'O'], ['O', 'O', 'O', 'O', 'O', 'O', 'B_S', 'O', 'O', 'O']] \n",
            "\n",
            "The result of modifiers consolidation: \n",
            " [['O', 'O', 'BM', 'O'], ['O', 'O', 'O', 'O'], ['O', 'O', 'O', 'O', 'O', 'O', 'O', 'O', 'O', 'O']] \n",
            "\n",
            "Number of consolidated lists:  3224 \n",
            "\n",
            "Number of aspect labels:  7363\n",
            "Number of sentiment labels:  10291\n",
            "Number of modifier labels:  2304\n",
            "All lists are equal?:  True\n"
          ],
          "name": "stdout"
        }
      ]
    },
    {
      "cell_type": "markdown",
      "metadata": {
        "id": "ueEeFZr2ZWfr"
      },
      "source": [
        " Let's compare our results with what we will get if we use the annotations from one user"
      ]
    },
    {
      "cell_type": "code",
      "metadata": {
        "id": "gm6dgZS4Y1vB"
      },
      "source": [
        "# define function extract the annotation of one user\n",
        "def first_user_extractor(all_labels):\n",
        "  first_labels = []\n",
        "  for i in range(0,len(all_labels),3):\n",
        "    first_labels.append(all_labels[i])\n",
        "  return first_labels"
      ],
      "execution_count": 15,
      "outputs": []
    },
    {
      "cell_type": "code",
      "metadata": {
        "colab": {
          "base_uri": "https://localhost:8080/"
        },
        "id": "uXPwO3X4ZZ2E",
        "outputId": "35fcb660-cf3f-41a5-fc9b-66152646a4c8"
      },
      "source": [
        "# count labels \n",
        "first_asp_user = first_user_extractor(asp_users)\n",
        "first_sen_user = first_user_extractor(sen_users)\n",
        "first_mod_user = first_user_extractor(mod_users)\n",
        "\n",
        "print(\"Number of aspect labels: \", labels_counter(first_asp_user))\n",
        "print(\"Number of sentiment labels: \", labels_counter(first_sen_user))\n",
        "print(\"Number of modifier labels: \", labels_counter(first_mod_user))"
      ],
      "execution_count": 16,
      "outputs": [
        {
          "output_type": "stream",
          "text": [
            "Number of aspect labels:  4185\n",
            "Number of sentiment labels:  6776\n",
            "Number of modifier labels:  1299\n"
          ],
          "name": "stdout"
        }
      ]
    },
    {
      "cell_type": "markdown",
      "metadata": {
        "id": "0mJMO7D7ZkgY"
      },
      "source": [
        "The variables :```con_asp_lab```, ```con_sen_lab```, ```con_mod_lab```  will be used to train the model in addition to the variable ```sentences```:\n"
      ]
    },
    {
      "cell_type": "code",
      "metadata": {
        "colab": {
          "base_uri": "https://localhost:8080/"
        },
        "id": "CFIn2fPgZcRz",
        "outputId": "307e2e19-f370-4150-d733-f1b11b886c54"
      },
      "source": [
        "# remember the length of each one\n",
        "len(con_asp_lab)"
      ],
      "execution_count": 17,
      "outputs": [
        {
          "output_type": "execute_result",
          "data": {
            "text/plain": [
              "3224"
            ]
          },
          "metadata": {
            "tags": []
          },
          "execution_count": 17
        }
      ]
    },
    {
      "cell_type": "markdown",
      "metadata": {
        "id": "0WXaeEmSa4K7"
      },
      "source": [
        "##2.4. Our data:"
      ]
    },
    {
      "cell_type": "code",
      "metadata": {
        "colab": {
          "base_uri": "https://localhost:8080/"
        },
        "id": "p3sfgqLGaW_m",
        "outputId": "3d60fe07-e261-4fb3-f1b4-3daed2bcd13f"
      },
      "source": [
        "sentences[:4]"
      ],
      "execution_count": 18,
      "outputs": [
        {
          "output_type": "execute_result",
          "data": {
            "text/plain": [
              "[['best', 'show', 'ever', '!'],\n",
              " ['its', 'a', 'great', 'show'],\n",
              " ['my', '6', 'year', 'old', 'and', 'i', 'love', 'this', 'show', '!'],\n",
              " ['season',\n",
              "  '2',\n",
              "  'continues',\n",
              "  'the',\n",
              "  'story',\n",
              "  'well',\n",
              "  'while',\n",
              "  'adding',\n",
              "  'great',\n",
              "  'new',\n",
              "  'characters',\n",
              "  '.']]"
            ]
          },
          "metadata": {
            "tags": []
          },
          "execution_count": 18
        }
      ]
    },
    {
      "cell_type": "code",
      "metadata": {
        "colab": {
          "base_uri": "https://localhost:8080/"
        },
        "id": "1K_ie8j1a744",
        "outputId": "6837403e-92a6-400d-9632-b10557484f6c"
      },
      "source": [
        "con_asp_lab[:4]"
      ],
      "execution_count": 19,
      "outputs": [
        {
          "output_type": "execute_result",
          "data": {
            "text/plain": [
              "[['O', 'B_A', 'O', 'O'],\n",
              " ['O', 'O', 'O', 'B_A'],\n",
              " ['O', 'O', 'O', 'O', 'O', 'O', 'O', 'O', 'B_A', 'O'],\n",
              " ['B_A', 'I_A', 'O', 'O', 'B_A', 'O', 'O', 'O', 'O', 'O', 'B_A', 'O']]"
            ]
          },
          "metadata": {
            "tags": []
          },
          "execution_count": 19
        }
      ]
    },
    {
      "cell_type": "markdown",
      "metadata": {
        "id": "1o7g0st6bEh5"
      },
      "source": [
        "##2.5. Split train-test data"
      ]
    },
    {
      "cell_type": "code",
      "metadata": {
        "id": "GNraBgj9a_3B"
      },
      "source": [
        "sentences_train = sentences[:2579]\n",
        "sentences_test = sentences [2597:]\n",
        "labels_train = con_asp_lab [:2579]\n",
        "labels_test = con_asp_lab[2579:]"
      ],
      "execution_count": 20,
      "outputs": []
    },
    {
      "cell_type": "markdown",
      "metadata": {
        "id": "sh99WXh9bOpo"
      },
      "source": [
        "# 3. [BiLSTM-CRF Model](https://towardsdatascience.com/bilstm-crf-for-aspect-term-extraction-87630406573a)"
      ]
    },
    {
      "cell_type": "markdown",
      "metadata": {
        "id": "Hw_luPaSbQVI"
      },
      "source": [
        "![0*sxUzBG9DxufsIIWk.jpg](data:image/jpeg;base64,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)"
      ]
    },
    {
      "cell_type": "markdown",
      "metadata": {
        "id": "0FqCubIobX9i"
      },
      "source": [
        "* [Word Embedding](https://www.analyticsvidhya.com/blog/2017/06/word-embeddings-count-word2veec/). This layer will convert each word to a vector with fixed dimensions. Usually there is no needs to train the word vector by yourself. There are already many pre-trained word embedding data for use, and we use GloVe.\n",
        "* [BiLSTM Encoder](https://datascience.stackexchange.com/questions/25650/what-is-lstm-bilstm-and-when-to-use-them). This encoder contains two LSTM layers and it can learn the information from context.\n",
        "* [CRF layer](https://createmomo.github.io/2017/09/12/CRF_Layer_on_the_Top_of_BiLSTM_1/). This layer could add some constrains to the final predicted labels to ensure they are valid. These constrains can be learned by the CRF layer automatically from the training dataset during the training process."
      ]
    },
    {
      "cell_type": "code",
      "metadata": {
        "id": "feunWS4ObIsH"
      },
      "source": [
        "# generate vocabulary,token ids and embeddings for vocabulary\n",
        "# Vocabulary contains all tokens that appear once in the data\n",
        "# This is important because on the basis of this vocabulary an ID is assigned for each token and corresponding embeddings are assigned for each ID\n",
        "# tokens themselves are not passed into the neural network, but the Token_ID\n",
        "words = set(['##unknown_token##','##padding_token##']) # create a set of two elements\n",
        "for v in data.values():\n",
        "    words.update(set(v['tokens']))     # To add items from another set (here set from the elements of values associated with the key 'tokens') into the current set (here vocabulary), use the update() method.\n",
        "words = list(words)               # create a list from the set vocabulary (because Set items are unordered, unchangeable, and do not allow duplicate values)\n",
        "words.sort()                           # sort the list vocabulary\n"
      ],
      "execution_count": 21,
      "outputs": []
    },
    {
      "cell_type": "code",
      "metadata": {
        "id": "HqrZHj_Xencw"
      },
      "source": [
        "# check the ration of words in words embedding\n",
        "word_true = 0\n",
        "\n",
        "for word in words:\n",
        "    if word in embeddings_index:\n",
        "        word_true += 1"
      ],
      "execution_count": 22,
      "outputs": []
    },
    {
      "cell_type": "code",
      "metadata": {
        "colab": {
          "base_uri": "https://localhost:8080/"
        },
        "id": "JqWCphn6e3qQ",
        "outputId": "e1d03f54-b3d1-4f73-d369-d2dee120b913"
      },
      "source": [
        "print(len(words))\n",
        "print(word_true)\n",
        "print(\"The ration of words in embedding is: \", word_true/len(words))"
      ],
      "execution_count": 23,
      "outputs": [
        {
          "output_type": "stream",
          "text": [
            "8784\n",
            "8347\n",
            "The ration of words in embedding is:  0.9502504553734062\n"
          ],
          "name": "stdout"
        }
      ]
    },
    {
      "cell_type": "code",
      "metadata": {
        "id": "UUnqItxHffka"
      },
      "source": [
        "# create a dictionary of words-index pairs\n",
        "word2idx = {}\n",
        "word2idx['<PAD>'] = 0\n",
        "word2idx['<UNK>'] = 1\n",
        "for i, word in enumerate(words):\n",
        "    word2idx[word] = i + 2"
      ],
      "execution_count": 24,
      "outputs": []
    },
    {
      "cell_type": "code",
      "metadata": {
        "colab": {
          "base_uri": "https://localhost:8080/"
        },
        "id": "gJ5t4IbIfnn_",
        "outputId": "e41ac620-812b-4304-cb66-ebfdd1655a6d"
      },
      "source": [
        "word2idx['best']"
      ],
      "execution_count": 25,
      "outputs": [
        {
          "output_type": "execute_result",
          "data": {
            "text/plain": [
              "3384"
            ]
          },
          "metadata": {
            "tags": []
          },
          "execution_count": 25
        }
      ]
    },
    {
      "cell_type": "code",
      "metadata": {
        "id": "OYV9Wo4Sh4qz"
      },
      "source": [
        "EMBEDDING_DIM = 300\n",
        "\n",
        "embedding_matrix = np.zeros((len(words)+2, EMBEDDING_DIM))\n",
        "\n",
        "for word, i in word2idx.items():\n",
        "    embedding_vector = embeddings_index.get(word)\n",
        "    if embedding_vector is None:\n",
        "        embedding_matrix[i] = embeddings_index['unk']\n",
        "    else:\n",
        "        embedding_matrix[i] = embedding_vector\n",
        "\n",
        "# embedding_matrix[0] is all zeros for padding\n",
        "embedding_matrix[0] = np.zeros(EMBEDDING_DIM)"
      ],
      "execution_count": 26,
      "outputs": []
    },
    {
      "cell_type": "code",
      "metadata": {
        "colab": {
          "base_uri": "https://localhost:8080/"
        },
        "id": "AknCMCoUh-Gx",
        "outputId": "bb180a66-f3aa-4fc1-d525-68bbf2daf2b2"
      },
      "source": [
        "embedding_matrix.shape"
      ],
      "execution_count": 27,
      "outputs": [
        {
          "output_type": "execute_result",
          "data": {
            "text/plain": [
              "(8786, 300)"
            ]
          },
          "metadata": {
            "tags": []
          },
          "execution_count": 27
        }
      ]
    },
    {
      "cell_type": "code",
      "metadata": {
        "colab": {
          "base_uri": "https://localhost:8080/"
        },
        "id": "GIBMgke7iC0v",
        "outputId": "56d7114b-9bad-476d-ffdd-863d781d841d"
      },
      "source": [
        "'unk' in embeddings_index"
      ],
      "execution_count": 28,
      "outputs": [
        {
          "output_type": "execute_result",
          "data": {
            "text/plain": [
              "True"
            ]
          },
          "metadata": {
            "tags": []
          },
          "execution_count": 28
        }
      ]
    },
    {
      "cell_type": "code",
      "metadata": {
        "colab": {
          "base_uri": "https://localhost:8080/"
        },
        "id": "qSEI6ft2iIjk",
        "outputId": "d0a63605-5e7b-4bf7-a4c6-02a1848df438"
      },
      "source": [
        "len(word2idx)"
      ],
      "execution_count": 29,
      "outputs": [
        {
          "output_type": "execute_result",
          "data": {
            "text/plain": [
              "8786"
            ]
          },
          "metadata": {
            "tags": []
          },
          "execution_count": 29
        }
      ]
    },
    {
      "cell_type": "code",
      "metadata": {
        "id": "4W7qBhMr27lW"
      },
      "source": [
        "# define function to merge sentences with labels lists\n",
        "def sentence_getter(first_list, second_list):\n",
        "  # zip both lists. You end up with pairs of lists\n",
        "  pl = zip(first_list, second_list)\n",
        "\n",
        "  # zip each pair of list and make list of tuples out of each pair of lists.\n",
        "  result = [[(e[0], e[1]) for e in zip(l[0], l[1])] for l in pl]\n",
        "  return result\n"
      ],
      "execution_count": 30,
      "outputs": []
    },
    {
      "cell_type": "code",
      "metadata": {
        "id": "nlRWcdvu3AYp"
      },
      "source": [
        "sentences_t = sentence_getter(sentences_train, labels_train)"
      ],
      "execution_count": 31,
      "outputs": []
    },
    {
      "cell_type": "code",
      "metadata": {
        "colab": {
          "base_uri": "https://localhost:8080/"
        },
        "id": "_YvkPgmR7Zgg",
        "outputId": "dc10bf88-42df-4c61-9d28-6ea009bb57b6"
      },
      "source": [
        "sentences_t[0]"
      ],
      "execution_count": 32,
      "outputs": [
        {
          "output_type": "execute_result",
          "data": {
            "text/plain": [
              "[('best', 'O'), ('show', 'B_A'), ('ever', 'O'), ('!', 'O')]"
            ]
          },
          "metadata": {
            "tags": []
          },
          "execution_count": 32
        }
      ]
    },
    {
      "cell_type": "code",
      "metadata": {
        "id": "TfDryuM78sS4"
      },
      "source": [
        "max_len = 75\n",
        "n_words = len(word2idx)\n",
        "\n",
        "tags = set()                   # we want to define all label classes as set then convert it to a list: ['B_A', 'I_A', 'O']\n",
        "for row in labels_train:\n",
        "    tags.update(row)\n",
        "tags = list(tags)\n",
        "tags.sort()\n",
        "\n",
        "n_tags = len(tags)\n",
        "tag2idx = {t: i + 1 for i, t in enumerate(tags)}\n",
        "tag2idx['<pad>'] = 0\n",
        "n_tags = len(tag2idx) # Due to <pad>, here total tag number is from 17 to 18"
      ],
      "execution_count": 33,
      "outputs": []
    },
    {
      "cell_type": "code",
      "metadata": {
        "colab": {
          "base_uri": "https://localhost:8080/"
        },
        "id": "ONYn4d1-8_xq",
        "outputId": "6c43b0d8-824d-4efa-a157-96e59cc3e35b"
      },
      "source": [
        "print(tags)\n",
        "print(tag2idx)"
      ],
      "execution_count": 34,
      "outputs": [
        {
          "output_type": "stream",
          "text": [
            "['B_A', 'I_A', 'O']\n",
            "{'B_A': 1, 'I_A': 2, 'O': 3, '<pad>': 0}\n"
          ],
          "name": "stdout"
        }
      ]
    },
    {
      "cell_type": "code",
      "metadata": {
        "id": "pPy5FvSh9UD9"
      },
      "source": [
        "# Word2inx & Padding for X\n",
        "X = [[word2idx.get(w[0], 1) for w in s] for s in sentences_t]\n",
        "X_train = pad_sequences(maxlen=max_len, sequences=X, padding=\"post\", value=0)\n",
        "\n",
        "# Word2inx & Padding for y\n",
        "y = [[tag2idx[w[1]] for w in s] for s in sentences_t]\n",
        "y = pad_sequences(maxlen=max_len, sequences=y, padding=\"post\", value=0)\n",
        "\n",
        "# Get one-hot labels\n",
        "y_train = [to_categorical(i, num_classes=n_tags) for i in y]"
      ],
      "execution_count": 35,
      "outputs": []
    },
    {
      "cell_type": "code",
      "metadata": {
        "colab": {
          "base_uri": "https://localhost:8080/"
        },
        "id": "lILosWh395LD",
        "outputId": "0c0d34d3-7328-41e8-9359-335449302906"
      },
      "source": [
        "print(X[0])"
      ],
      "execution_count": 36,
      "outputs": [
        {
          "output_type": "stream",
          "text": [
            "[3384, 7574, 4688, 2]\n"
          ],
          "name": "stdout"
        }
      ]
    },
    {
      "cell_type": "code",
      "metadata": {
        "colab": {
          "base_uri": "https://localhost:8080/"
        },
        "id": "TD5hQR_b_irN",
        "outputId": "f4af6584-1f1a-4ea2-8a1f-720c85c63e8b"
      },
      "source": [
        "print(len(X_train))\n",
        "print(len(y_train))"
      ],
      "execution_count": 37,
      "outputs": [
        {
          "output_type": "stream",
          "text": [
            "2579\n",
            "2579\n"
          ],
          "name": "stdout"
        }
      ]
    },
    {
      "cell_type": "code",
      "metadata": {
        "colab": {
          "base_uri": "https://localhost:8080/"
        },
        "id": "arbqatjv_69i",
        "outputId": "76d4d97d-0ec0-4713-812f-a3819902607e"
      },
      "source": [
        "n_words"
      ],
      "execution_count": 38,
      "outputs": [
        {
          "output_type": "execute_result",
          "data": {
            "text/plain": [
              "8786"
            ]
          },
          "metadata": {
            "tags": []
          },
          "execution_count": 38
        }
      ]
    },
    {
      "cell_type": "code",
      "metadata": {
        "colab": {
          "base_uri": "https://localhost:8080/",
          "height": 633
        },
        "id": "0ugYNOIqABMs",
        "outputId": "1d65e94f-9ffe-442e-e3b5-2ea295ba7343"
      },
      "source": [
        "#==============Bi-LSTM CRF=============\n",
        "input = Input(shape=(max_len,))\n",
        "model = Embedding(input_dim=n_words, \n",
        "                  output_dim=300,\n",
        "                  weights=[embedding_matrix],\n",
        "                  input_length=max_len, \n",
        "                  mask_zero=True)(input)  # 20-dim embedding\n",
        "model = Bidirectional(LSTM(units=256, return_sequences=True,\n",
        "                           recurrent_dropout=0.1))(model)  # variational biLSTM\n",
        "model = TimeDistributed(Dense(50, activation=\"tanh\"))(model)  # a dense layer as suggested by neuralNer\n",
        "crf = CRF(n_tags)  # CRF layer\n",
        "out = crf(model)  # output\n",
        "\n",
        "model = Model(input, out)\n",
        "model.compile(optimizer=\"rmsprop\", loss=crf.loss_function, metrics=[crf.accuracy])\n",
        "model.summary()"
      ],
      "execution_count": 39,
      "outputs": [
        {
          "output_type": "stream",
          "text": [
            "WARNING:tensorflow:Layer lstm will not use cuDNN kernel since it doesn't meet the cuDNN kernel criteria. It will use generic GPU kernel as fallback when running on GPU\n",
            "WARNING:tensorflow:Layer lstm will not use cuDNN kernel since it doesn't meet the cuDNN kernel criteria. It will use generic GPU kernel as fallback when running on GPU\n",
            "WARNING:tensorflow:Layer lstm will not use cuDNN kernel since it doesn't meet the cuDNN kernel criteria. It will use generic GPU kernel as fallback when running on GPU\n"
          ],
          "name": "stdout"
        },
        {
          "output_type": "error",
          "ename": "AttributeError",
          "evalue": "ignored",
          "traceback": [
            "\u001b[0;31m---------------------------------------------------------------------------\u001b[0m",
            "\u001b[0;31mAttributeError\u001b[0m                            Traceback (most recent call last)",
            "\u001b[0;32m<ipython-input-39-b7fd444d8c68>\u001b[0m in \u001b[0;36m<module>\u001b[0;34m()\u001b[0m\n\u001b[1;32m     10\u001b[0m \u001b[0mmodel\u001b[0m \u001b[0;34m=\u001b[0m \u001b[0mTimeDistributed\u001b[0m\u001b[0;34m(\u001b[0m\u001b[0mDense\u001b[0m\u001b[0;34m(\u001b[0m\u001b[0;36m50\u001b[0m\u001b[0;34m,\u001b[0m \u001b[0mactivation\u001b[0m\u001b[0;34m=\u001b[0m\u001b[0;34m\"tanh\"\u001b[0m\u001b[0;34m)\u001b[0m\u001b[0;34m)\u001b[0m\u001b[0;34m(\u001b[0m\u001b[0mmodel\u001b[0m\u001b[0;34m)\u001b[0m  \u001b[0;31m# a dense layer as suggested by neuralNer\u001b[0m\u001b[0;34m\u001b[0m\u001b[0;34m\u001b[0m\u001b[0m\n\u001b[1;32m     11\u001b[0m \u001b[0mcrf\u001b[0m \u001b[0;34m=\u001b[0m \u001b[0mCRF\u001b[0m\u001b[0;34m(\u001b[0m\u001b[0mn_tags\u001b[0m\u001b[0;34m)\u001b[0m  \u001b[0;31m# CRF layer\u001b[0m\u001b[0;34m\u001b[0m\u001b[0;34m\u001b[0m\u001b[0m\n\u001b[0;32m---> 12\u001b[0;31m \u001b[0mout\u001b[0m \u001b[0;34m=\u001b[0m \u001b[0mcrf\u001b[0m\u001b[0;34m(\u001b[0m\u001b[0mmodel\u001b[0m\u001b[0;34m)\u001b[0m  \u001b[0;31m# output\u001b[0m\u001b[0;34m\u001b[0m\u001b[0;34m\u001b[0m\u001b[0m\n\u001b[0m\u001b[1;32m     13\u001b[0m \u001b[0;34m\u001b[0m\u001b[0m\n\u001b[1;32m     14\u001b[0m \u001b[0mmodel\u001b[0m \u001b[0;34m=\u001b[0m \u001b[0mModel\u001b[0m\u001b[0;34m(\u001b[0m\u001b[0minput\u001b[0m\u001b[0;34m,\u001b[0m \u001b[0mout\u001b[0m\u001b[0;34m)\u001b[0m\u001b[0;34m\u001b[0m\u001b[0;34m\u001b[0m\u001b[0m\n",
            "\u001b[0;32m/usr/local/lib/python3.6/dist-packages/tensorflow/python/keras/engine/base_layer.py\u001b[0m in \u001b[0;36m__call__\u001b[0;34m(self, *args, **kwargs)\u001b[0m\n\u001b[1;32m    950\u001b[0m     \u001b[0;32mif\u001b[0m \u001b[0m_in_functional_construction_mode\u001b[0m\u001b[0;34m(\u001b[0m\u001b[0mself\u001b[0m\u001b[0;34m,\u001b[0m \u001b[0minputs\u001b[0m\u001b[0;34m,\u001b[0m \u001b[0margs\u001b[0m\u001b[0;34m,\u001b[0m \u001b[0mkwargs\u001b[0m\u001b[0;34m,\u001b[0m \u001b[0minput_list\u001b[0m\u001b[0;34m)\u001b[0m\u001b[0;34m:\u001b[0m\u001b[0;34m\u001b[0m\u001b[0;34m\u001b[0m\u001b[0m\n\u001b[1;32m    951\u001b[0m       return self._functional_construction_call(inputs, args, kwargs,\n\u001b[0;32m--> 952\u001b[0;31m                                                 input_list)\n\u001b[0m\u001b[1;32m    953\u001b[0m \u001b[0;34m\u001b[0m\u001b[0m\n\u001b[1;32m    954\u001b[0m     \u001b[0;31m# Maintains info about the `Layer.call` stack.\u001b[0m\u001b[0;34m\u001b[0m\u001b[0;34m\u001b[0m\u001b[0;34m\u001b[0m\u001b[0m\n",
            "\u001b[0;32m/usr/local/lib/python3.6/dist-packages/tensorflow/python/keras/engine/base_layer.py\u001b[0m in \u001b[0;36m_functional_construction_call\u001b[0;34m(self, inputs, args, kwargs, input_list)\u001b[0m\n\u001b[1;32m   1089\u001b[0m         \u001b[0;31m# Check input assumptions set after layer building, e.g. input shape.\u001b[0m\u001b[0;34m\u001b[0m\u001b[0;34m\u001b[0m\u001b[0;34m\u001b[0m\u001b[0m\n\u001b[1;32m   1090\u001b[0m         outputs = self._keras_tensor_symbolic_call(\n\u001b[0;32m-> 1091\u001b[0;31m             inputs, input_masks, args, kwargs)\n\u001b[0m\u001b[1;32m   1092\u001b[0m \u001b[0;34m\u001b[0m\u001b[0m\n\u001b[1;32m   1093\u001b[0m         \u001b[0;32mif\u001b[0m \u001b[0moutputs\u001b[0m \u001b[0;32mis\u001b[0m \u001b[0;32mNone\u001b[0m\u001b[0;34m:\u001b[0m\u001b[0;34m\u001b[0m\u001b[0;34m\u001b[0m\u001b[0m\n",
            "\u001b[0;32m/usr/local/lib/python3.6/dist-packages/tensorflow/python/keras/engine/base_layer.py\u001b[0m in \u001b[0;36m_keras_tensor_symbolic_call\u001b[0;34m(self, inputs, input_masks, args, kwargs)\u001b[0m\n\u001b[1;32m    820\u001b[0m       \u001b[0;32mreturn\u001b[0m \u001b[0mnest\u001b[0m\u001b[0;34m.\u001b[0m\u001b[0mmap_structure\u001b[0m\u001b[0;34m(\u001b[0m\u001b[0mkeras_tensor\u001b[0m\u001b[0;34m.\u001b[0m\u001b[0mKerasTensor\u001b[0m\u001b[0;34m,\u001b[0m \u001b[0moutput_signature\u001b[0m\u001b[0;34m)\u001b[0m\u001b[0;34m\u001b[0m\u001b[0;34m\u001b[0m\u001b[0m\n\u001b[1;32m    821\u001b[0m     \u001b[0;32melse\u001b[0m\u001b[0;34m:\u001b[0m\u001b[0;34m\u001b[0m\u001b[0;34m\u001b[0m\u001b[0m\n\u001b[0;32m--> 822\u001b[0;31m       \u001b[0;32mreturn\u001b[0m \u001b[0mself\u001b[0m\u001b[0;34m.\u001b[0m\u001b[0m_infer_output_signature\u001b[0m\u001b[0;34m(\u001b[0m\u001b[0minputs\u001b[0m\u001b[0;34m,\u001b[0m \u001b[0margs\u001b[0m\u001b[0;34m,\u001b[0m \u001b[0mkwargs\u001b[0m\u001b[0;34m,\u001b[0m \u001b[0minput_masks\u001b[0m\u001b[0;34m)\u001b[0m\u001b[0;34m\u001b[0m\u001b[0;34m\u001b[0m\u001b[0m\n\u001b[0m\u001b[1;32m    823\u001b[0m \u001b[0;34m\u001b[0m\u001b[0m\n\u001b[1;32m    824\u001b[0m   \u001b[0;32mdef\u001b[0m \u001b[0m_infer_output_signature\u001b[0m\u001b[0;34m(\u001b[0m\u001b[0mself\u001b[0m\u001b[0;34m,\u001b[0m \u001b[0minputs\u001b[0m\u001b[0;34m,\u001b[0m \u001b[0margs\u001b[0m\u001b[0;34m,\u001b[0m \u001b[0mkwargs\u001b[0m\u001b[0;34m,\u001b[0m \u001b[0minput_masks\u001b[0m\u001b[0;34m)\u001b[0m\u001b[0;34m:\u001b[0m\u001b[0;34m\u001b[0m\u001b[0;34m\u001b[0m\u001b[0m\n",
            "\u001b[0;32m/usr/local/lib/python3.6/dist-packages/tensorflow/python/keras/engine/base_layer.py\u001b[0m in \u001b[0;36m_infer_output_signature\u001b[0;34m(self, inputs, args, kwargs, input_masks)\u001b[0m\n\u001b[1;32m    861\u001b[0m           \u001b[0;31m# TODO(kaftan): do we maybe_build here, or have we already done it?\u001b[0m\u001b[0;34m\u001b[0m\u001b[0;34m\u001b[0m\u001b[0;34m\u001b[0m\u001b[0m\n\u001b[1;32m    862\u001b[0m           \u001b[0mself\u001b[0m\u001b[0;34m.\u001b[0m\u001b[0m_maybe_build\u001b[0m\u001b[0;34m(\u001b[0m\u001b[0minputs\u001b[0m\u001b[0;34m)\u001b[0m\u001b[0;34m\u001b[0m\u001b[0;34m\u001b[0m\u001b[0m\n\u001b[0;32m--> 863\u001b[0;31m           \u001b[0moutputs\u001b[0m \u001b[0;34m=\u001b[0m \u001b[0mcall_fn\u001b[0m\u001b[0;34m(\u001b[0m\u001b[0minputs\u001b[0m\u001b[0;34m,\u001b[0m \u001b[0;34m*\u001b[0m\u001b[0margs\u001b[0m\u001b[0;34m,\u001b[0m \u001b[0;34m**\u001b[0m\u001b[0mkwargs\u001b[0m\u001b[0;34m)\u001b[0m\u001b[0;34m\u001b[0m\u001b[0;34m\u001b[0m\u001b[0m\n\u001b[0m\u001b[1;32m    864\u001b[0m \u001b[0;34m\u001b[0m\u001b[0m\n\u001b[1;32m    865\u001b[0m         \u001b[0mself\u001b[0m\u001b[0;34m.\u001b[0m\u001b[0m_handle_activity_regularization\u001b[0m\u001b[0;34m(\u001b[0m\u001b[0minputs\u001b[0m\u001b[0;34m,\u001b[0m \u001b[0moutputs\u001b[0m\u001b[0;34m)\u001b[0m\u001b[0;34m\u001b[0m\u001b[0;34m\u001b[0m\u001b[0m\n",
            "\u001b[0;32m/usr/local/lib/python3.6/dist-packages/tensorflow/python/autograph/impl/api.py\u001b[0m in \u001b[0;36mwrapper\u001b[0;34m(*args, **kwargs)\u001b[0m\n\u001b[1;32m    668\u001b[0m       \u001b[0;32mexcept\u001b[0m \u001b[0mException\u001b[0m \u001b[0;32mas\u001b[0m \u001b[0me\u001b[0m\u001b[0;34m:\u001b[0m  \u001b[0;31m# pylint:disable=broad-except\u001b[0m\u001b[0;34m\u001b[0m\u001b[0;34m\u001b[0m\u001b[0m\n\u001b[1;32m    669\u001b[0m         \u001b[0;32mif\u001b[0m \u001b[0mhasattr\u001b[0m\u001b[0;34m(\u001b[0m\u001b[0me\u001b[0m\u001b[0;34m,\u001b[0m \u001b[0;34m'ag_error_metadata'\u001b[0m\u001b[0;34m)\u001b[0m\u001b[0;34m:\u001b[0m\u001b[0;34m\u001b[0m\u001b[0;34m\u001b[0m\u001b[0m\n\u001b[0;32m--> 670\u001b[0;31m           \u001b[0;32mraise\u001b[0m \u001b[0me\u001b[0m\u001b[0;34m.\u001b[0m\u001b[0mag_error_metadata\u001b[0m\u001b[0;34m.\u001b[0m\u001b[0mto_exception\u001b[0m\u001b[0;34m(\u001b[0m\u001b[0me\u001b[0m\u001b[0;34m)\u001b[0m\u001b[0;34m\u001b[0m\u001b[0;34m\u001b[0m\u001b[0m\n\u001b[0m\u001b[1;32m    671\u001b[0m         \u001b[0;32melse\u001b[0m\u001b[0;34m:\u001b[0m\u001b[0;34m\u001b[0m\u001b[0;34m\u001b[0m\u001b[0m\n\u001b[1;32m    672\u001b[0m           \u001b[0;32mraise\u001b[0m\u001b[0;34m\u001b[0m\u001b[0;34m\u001b[0m\u001b[0m\n",
            "\u001b[0;31mAttributeError\u001b[0m: in user code:\n\n    /usr/local/lib/python3.6/dist-packages/keras_contrib/layers/crf.py:292 call  *\n        test_output = self.viterbi_decoding(X, mask)\n    /usr/local/lib/python3.6/dist-packages/keras_contrib/layers/crf.py:564 viterbi_decoding  *\n        argmin_tables = self.recursion(input_energy, mask, return_logZ=False)\n    /usr/local/lib/python3.6/dist-packages/keras_contrib/layers/crf.py:521 _step  *\n        return self.step(input_energy_i, states, return_logZ)\n    /usr/local/lib/python3.6/dist-packages/keras_contrib/layers/crf.py:463 step  *\n        m = K.slice(states[3], [0, t], [-1, 2])\n\n    AttributeError: module 'keras.backend' has no attribute 'slice'\n"
          ]
        }
      ]
    },
    {
      "cell_type": "code",
      "metadata": {
        "id": "fiA37TyKAGjL"
      },
      "source": [
        "history = model.fit(X_train, np.array(y_train), batch_size=32, epochs=8,\n",
        "                    validation_split=0.1, verbose=1)"
      ],
      "execution_count": null,
      "outputs": []
    },
    {
      "cell_type": "code",
      "metadata": {
        "id": "o19QhmV3TjvA"
      },
      "source": [
        "hist = pd.DataFrame(history.history)\n"
      ],
      "execution_count": null,
      "outputs": []
    },
    {
      "cell_type": "code",
      "metadata": {
        "id": "wgpk-AqOTmUc"
      },
      "source": [
        "import matplotlib.pyplot as plt\n",
        "%matplotlib inline\n",
        "plt.style.use(\"ggplot\")\n",
        "plt.figure(figsize=(12,12))\n",
        "plt.plot(hist[\"loss\"])\n",
        "plt.plot(hist[\"val_loss\"])\n",
        "plt.show()"
      ],
      "execution_count": null,
      "outputs": []
    },
    {
      "cell_type": "markdown",
      "metadata": {
        "id": "wg74mRAsTu9g"
      },
      "source": [
        "### Predict on Test dataset"
      ]
    },
    {
      "cell_type": "code",
      "metadata": {
        "id": "1iTgazX6Tp_c"
      },
      "source": [
        "data = data_test\n",
        "\n",
        "# Sentence class\n",
        "class SentenceGetter(object):\n",
        "\n",
        "    def __init__(self, data):\n",
        "        self.n_sent = 1\n",
        "        self.data = data\n",
        "        self.empty = False\n",
        "        agg_func = lambda s: [(w, t) for w, t in zip(s[\"Word\"].values.tolist(),\n",
        "#                                                            s[\"POS\"].values.tolist(),\n",
        "                                                           s[\"Tag\"].values.tolist())]\n",
        "        self.grouped = self.data.groupby(\"Sentence #\").apply(agg_func)\n",
        "        self.sentences = [s for s in self.grouped]\n",
        "\n",
        "    def get_next(self):\n",
        "        try:\n",
        "            s = self.grouped[\"Sentence: {}\".format(self.n_sent)]\n",
        "            self.n_sent += 1\n",
        "            return s\n",
        "        except:\n",
        "            return None\n",
        "\n",
        "getter = SentenceGetter(data)\n",
        "sentences = getter.sentences # get all sentences\n",
        "   \n",
        "# Word2inx & Padding for X\n",
        "X = [[word2idx.get(w[0], 1) for w in s] for s in sentences]\n",
        "X_test = pad_sequences(maxlen=max_len, sequences=X, padding=\"post\", value=0)\n",
        "\n",
        "# Word2inx & Padding for y\n",
        "y = [[tag2idx[w[1]] for w in s] for s in sentences]\n",
        "y = pad_sequences(maxlen=max_len, sequences=y, padding=\"post\", value=0)\n",
        "\n",
        "# Get one-hot labels\n",
        "y_test = [to_categorical(i, num_classes=n_tags) for i in y]"
      ],
      "execution_count": null,
      "outputs": []
    },
    {
      "cell_type": "code",
      "metadata": {
        "id": "joWrvBBiT3FX"
      },
      "source": [
        "print(sentences[1])\n",
        "print(X_test[1])\n",
        "print(np.argmax(y_test[1], -1))"
      ],
      "execution_count": null,
      "outputs": []
    },
    {
      "cell_type": "code",
      "metadata": {
        "id": "-pFEXGZfT4JF"
      },
      "source": [
        "# Predictions.\n",
        "idx2word = {value: key for key, value in word2idx.items()}\n",
        "idx2tag = {value: key for key, value in tag2idx.items()}\n",
        "\n",
        "\n",
        "true_all = np.argmax(y_test, -1)\n",
        "\n",
        "true_all_tags = [[idx2tag[idx] for idx in s if idx!=0] for s in true_all]\n",
        "\n",
        "p_all = model.predict(np.array(X_test)) # (4796, 75, 18)\n",
        "p_all= np.argmax(p_all, axis=-1) # (4796, 75)\n",
        "p_all_tags = [[idx2tag[idx] for idx in s] for s in p_all] # ['B-gpe', 'O', 'O', 'O']\n",
        "\n",
        "for i, true in enumerate(true_all_tags):\n",
        "    length = len(true)\n",
        "    p_all_tags[i] = p_all_tags[i][:length]\n",
        "\n",
        "p_all_tags = [[x.replace('<pad>', 'O') for x in s] for s in p_all_tags]\n",
        "\n",
        "# for (true_tag, p)\n",
        "\n",
        "print(sentences[3])\n",
        "print(X_test[3])\n",
        "print(true_all_tags[3])\n",
        "print(p_all_tags[3])"
      ],
      "execution_count": null,
      "outputs": []
    },
    {
      "cell_type": "code",
      "metadata": {
        "id": "7ZJdi9NGT744"
      },
      "source": [
        "print(\"{:15}||{:5}||{}\".format(\"Word\", \"True\", \"Pred\"))\n",
        "print(30 * \"=\")\n",
        "for w, t, pred in zip(sentences[3], true_all_tags[3], p_all_tags[3]):\n",
        "    if w != 0:\n",
        "        print(\"{:15}: {:5} {}\".format(w[0], w[1], pred))"
      ],
      "execution_count": null,
      "outputs": []
    },
    {
      "cell_type": "code",
      "metadata": {
        "id": "TkUJUtzgT-ja"
      },
      "source": [
        "# Evaluation\n",
        "from seqeval.metrics import f1_score, classification_report\n",
        "print(f1_score(true_all_tags, p_all_tags))\n",
        "print(classification_report(true_all_tags, p_all_tags))"
      ],
      "execution_count": null,
      "outputs": []
    }
  ]
}